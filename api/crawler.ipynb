{
 "cells": [
  {
   "cell_type": "markdown",
   "metadata": {},
   "source": [
    "# 패키지 import"
   ]
  },
  {
   "cell_type": "code",
   "execution_count": 8,
   "metadata": {},
   "outputs": [],
   "source": [
    "import requests\n",
    "import xml.etree.ElementTree as ET\n",
    "import pandas as pd"
   ]
  },
  {
   "cell_type": "markdown",
   "metadata": {},
   "source": [
    "# Setting, Crawler 클래스 정의"
   ]
  },
  {
   "cell_type": "code",
   "execution_count": 41,
   "metadata": {},
   "outputs": [],
   "source": [
    "class Setting():\n",
    "    def __init__(self):\n",
    "        self.key = self._read_key()\n",
    "        self.fields = self._read_fields()\n",
    "        self.area_nms = self._read_area_113()\n",
    "        \n",
    "    # config 폴더 내 OPEN_API_KEY.txt에 작성해 둔 OPEN API 인증키를 받아오는 함수\n",
    "    def _read_key(self):\n",
    "        try:\n",
    "            with open('./config/OPEN_API_KEY.txt') as file:\n",
    "                key = file.read()\n",
    "            return key\n",
    "        except:\n",
    "            raise Exception(\"OPEN_API_KEY.txt 읽기 오류\")\n",
    "            \n",
    "    # config 폴더 내 FIELDS.txt에 작성해 둔 필드 값들을 받아오는 함수\n",
    "    # 해당 필드들은 API 요청으로 받아온 데이터에서 최종적으로 남길 필드들을 의미합니다.\n",
    "    def _read_fields(self):\n",
    "        try:\n",
    "            with open('./config/FIELDS.txt') as file:\n",
    "                fields = file.read().split()\n",
    "            return fields\n",
    "        except:\n",
    "            raise Exception(\"FIELDS.txt 읽기 오류\")\n",
    "    \n",
    "    # data 폴더 내 서울시 주요 113장소명 목록(코드포함).xlsx에서 지역명들을 받아오는 함수\n",
    "    # 해당 지역명들은 API 호출 시 각각 url 값에 넣어주어야 해서 반드시 필요합니다.\n",
    "    def _read_area_113(self):\n",
    "        try:\n",
    "            area_113 = pd.read_excel('./data/서울시 주요 113장소명 목록(코드포함).xlsx')\n",
    "            area_nms = area_113['AREA_NM'].to_list()\n",
    "            return area_nms\n",
    "        except:\n",
    "            raise Exception(\"서울시 주요 113장소명 목록(코드포함).xlsx 읽기 오류\")"
   ]
  },
  {
   "cell_type": "code",
   "execution_count": 51,
   "metadata": {},
   "outputs": [],
   "source": [
    "class Crawler(Setting):\n",
    "    def __init__(self):\n",
    "        super().__init__()\n",
    "    \n",
    "    # 특정 지역 1개에 대해서만 API 응답 데이터를 받아와서 반환하는 함수\n",
    "    def get_data_from_api(self, area_nm):\n",
    "        url = 'http://openapi.seoul.go.kr:8088/' + self.key + '/xml/citydata/1/5/' + area_nm\n",
    "\n",
    "        response = requests.get(url)\n",
    "        root = ET.fromstring(response.content)\n",
    "        result_data = self._get_values(root, self.fields)\n",
    "        \n",
    "        return result_data\n",
    "    \n",
    "    # 113개 지역 모두에 대해서 API 응답 데이터를 받아와서 리스트로 담아 반환하는 함수\n",
    "    def get_datas_from_api(self):\n",
    "        result_data_list = []\n",
    "        \n",
    "        for area_nm in self.area_nms:\n",
    "            result_data = self.get_data_from_api(area_nm)\n",
    "            result_data_list.append(result_data)\n",
    "        \n",
    "        return result_data_list\n",
    "\n",
    "    # xml 형식 데이터에서 특정 필드의 값만을 찾아서 그 값을 반환하는 함수\n",
    "    def _get_value(self, root, field):\n",
    "        for neighbor in root.iter(field):\n",
    "            return neighbor.text\n",
    "\n",
    "    # xml 형식 데이터에서 원하는 필드들의 값을 모두 찾아서 dict 형태로 반환하는 함수    \n",
    "    def _get_values(self, root, fields):\n",
    "        result_dict = {}\n",
    "        \n",
    "        for field in fields:\n",
    "            result_dict[field] = self._get_value(root, field)\n",
    "            \n",
    "        return result_dict"
   ]
  },
  {
   "cell_type": "markdown",
   "metadata": {},
   "source": [
    "# 실행 예제"
   ]
  },
  {
   "cell_type": "code",
   "execution_count": null,
   "metadata": {},
   "outputs": [],
   "source": [
    "# Crawler 객체 생성\n",
    "my_crawler = Crawler()"
   ]
  },
  {
   "cell_type": "code",
   "execution_count": 45,
   "metadata": {},
   "outputs": [
    {
     "name": "stderr",
     "output_type": "stream",
     "text": [
      "c:\\Users\\TwinsMin\\anaconda3\\envs\\hp_2\\lib\\site-packages\\openpyxl\\worksheet\\_reader.py:329: UserWarning: Unknown extension is not supported and will be removed\n",
      "  warn(msg)\n"
     ]
    }
   ],
   "source": [
    "# 113개 지역 모두에 대해서 API 응답 데이터를 받아와서 리스트로 담아 반환하는 예제\n",
    "result_data_list = my_crawler.get_datas_from_api()\n",
    "print(result_data_list)"
   ]
  },
  {
   "cell_type": "code",
   "execution_count": 49,
   "metadata": {},
   "outputs": [
    {
     "name": "stdout",
     "output_type": "stream",
     "text": [
      "{'AREA_NM': '강남역', 'AREA_CD': 'POI014', 'LIVE_PPLTN_STTS': None, 'AREA_CONGEST_LVL': '여유', 'PPLTN_TIME': '2023-11-07 02:40', 'WEATHER_STTS': None, 'TEMP': '6.4', 'PM10': '21', 'LAT': None, 'LNG': None, 'ROAD_ADDR': None}\n"
     ]
    }
   ],
   "source": [
    "# 특정 지역 1개에 대해서만 API 응답 데이터를 받아와서 반환하는 예제\n",
    "result_data = my_crawler.get_data_from_api('강남역')\n",
    "print(result_data)"
   ]
  },
  {
   "cell_type": "code",
   "execution_count": null,
   "metadata": {},
   "outputs": [],
   "source": []
  }
 ],
 "metadata": {
  "kernelspec": {
   "display_name": "hp_2",
   "language": "python",
   "name": "python3"
  },
  "language_info": {
   "codemirror_mode": {
    "name": "ipython",
    "version": 3
   },
   "file_extension": ".py",
   "mimetype": "text/x-python",
   "name": "python",
   "nbconvert_exporter": "python",
   "pygments_lexer": "ipython3",
   "version": "3.8.18"
  }
 },
 "nbformat": 4,
 "nbformat_minor": 2
}
